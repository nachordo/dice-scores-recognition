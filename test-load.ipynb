{
 "cells": [
  {
   "cell_type": "code",
   "execution_count": 5,
   "metadata": {},
   "outputs": [],
   "source": [
    "import numpy as np\n",
    "import pandas as pd\n",
    "import matplotlib.pyplot as plt\n",
    "import tensorflow as tf\n",
    "import os\n",
    "from sklearn.model_selection import train_test_split\n",
    "\n",
    "\n",
    "from tensorflow.keras.preprocessing.image import ImageDataGenerator\n",
    "\n",
    "import cv2\n",
    "\n",
    "\n",
    "from tensorflow.keras import Sequential\n",
    "from tensorflow.keras.layers import Conv2D\n",
    "from tensorflow.keras.layers import MaxPooling2D\n",
    "\n",
    "from tensorflow.keras.optimizers import Adam\n",
    "from tensorflow.keras.layers import Dense, Flatten\n",
    "\n",
    "from PIL import Image"
   ]
  },
  {
   "cell_type": "code",
   "execution_count": 2,
   "metadata": {},
   "outputs": [],
   "source": [
    "batch_size_train=30  #,batch_size= batch_size_train\n",
    "batch_size_valid=30\n",
    "targetsize= 50"
   ]
  },
  {
   "cell_type": "code",
   "execution_count": 3,
   "metadata": {},
   "outputs": [
    {
     "name": "stdout",
     "output_type": "stream",
     "text": [
      "Model: \"sequential\"\n",
      "_________________________________________________________________\n",
      "Layer (type)                 Output Shape              Param #   \n",
      "=================================================================\n",
      "conv2d (Conv2D)              (None, 50, 50, 32)        896       \n",
      "_________________________________________________________________\n",
      "max_pooling2d (MaxPooling2D) (None, 25, 25, 32)        0         \n",
      "_________________________________________________________________\n",
      "conv2d_1 (Conv2D)            (None, 25, 25, 64)        18496     \n",
      "_________________________________________________________________\n",
      "max_pooling2d_1 (MaxPooling2 (None, 12, 12, 64)        0         \n",
      "_________________________________________________________________\n",
      "conv2d_2 (Conv2D)            (None, 12, 12, 128)       73856     \n",
      "_________________________________________________________________\n",
      "max_pooling2d_2 (MaxPooling2 (None, 6, 6, 128)         0         \n",
      "_________________________________________________________________\n",
      "conv2d_3 (Conv2D)            (None, 6, 6, 256)         295168    \n",
      "_________________________________________________________________\n",
      "max_pooling2d_3 (MaxPooling2 (None, 3, 3, 256)         0         \n",
      "_________________________________________________________________\n",
      "conv2d_4 (Conv2D)            (None, 3, 3, 512)         1180160   \n",
      "_________________________________________________________________\n",
      "max_pooling2d_4 (MaxPooling2 (None, 1, 1, 512)         0         \n",
      "_________________________________________________________________\n",
      "flatten (Flatten)            (None, 512)               0         \n",
      "_________________________________________________________________\n",
      "dense (Dense)                (None, 6)                 3078      \n",
      "=================================================================\n",
      "Total params: 1,571,654\n",
      "Trainable params: 1,571,654\n",
      "Non-trainable params: 0\n",
      "_________________________________________________________________\n"
     ]
    }
   ],
   "source": [
    "model2 = Sequential()\n",
    "model2.add(Conv2D(32, (3,3), padding='same', activation='relu', input_shape=(targetsize,targetsize, 3)) )\n",
    "model2.add(MaxPooling2D((2, 2)))\n",
    "\n",
    "model2.add(Conv2D(filters=64, kernel_size=(3,3), padding='SAME', activation='relu'))\n",
    "model2.add(MaxPooling2D((2, 2)))\n",
    "\n",
    "\n",
    "model2.add(Conv2D(filters=128, kernel_size=(3,3), padding='SAME', activation='relu'))\n",
    "model2.add(MaxPooling2D((2, 2)))\n",
    "\n",
    "model2.add(Conv2D(filters=256, kernel_size=(3,3), padding='SAME', activation='relu'))\n",
    "model2.add(MaxPooling2D((2, 2)))\n",
    "\n",
    "model2.add(Conv2D(filters=512, kernel_size=(3,3), padding='SAME', activation='relu'))\n",
    "model2.add(MaxPooling2D((2, 2)))\n",
    "\n",
    "model2.add(Flatten())\n",
    "model2.add(Dense(6, activation='softmax'))\n",
    "model2.summary()"
   ]
  },
  {
   "cell_type": "code",
   "execution_count": 4,
   "metadata": {},
   "outputs": [],
   "source": [
    "model2.load_weights('/home/ordovas/IRONHACK/dice-scores-recognition/model2_d6_augmented_c1.h5')"
   ]
  },
  {
   "cell_type": "code",
   "execution_count": 2,
   "metadata": {},
   "outputs": [],
   "source": [
    "json_file = open('model2_extendedsamp.json', 'r')\n",
    "loaded_model_json = json_file.read()"
   ]
  },
  {
   "cell_type": "code",
   "execution_count": 3,
   "metadata": {},
   "outputs": [],
   "source": [
    "from tensorflow.keras.models import model_from_json\n",
    "loaded_model = model_from_json(loaded_model_json)"
   ]
  },
  {
   "cell_type": "code",
   "execution_count": 4,
   "metadata": {},
   "outputs": [],
   "source": [
    "loaded_model.load_weights(\"/home/ordovas/IRONHACK/dice-scores-recognition/model2_1d6_augmented_c2.h5\")"
   ]
  },
  {
   "cell_type": "code",
   "execution_count": 8,
   "metadata": {},
   "outputs": [],
   "source": [
    "loaded_model.compile(Adam(lr=.0002), loss='categorical_crossentropy', metrics= ['accuracy'])\n"
   ]
  },
  {
   "cell_type": "code",
   "execution_count": 10,
   "metadata": {},
   "outputs": [],
   "source": [
    "datagen=ImageDataGenerator(rotation_range=180,height_shift_range=0.1,rescale=1.0/255.0\n",
    "                           ,zoom_range=[0.7,1.1],brightness_range=[0.4,1.2])"
   ]
  },
  {
   "cell_type": "code",
   "execution_count": null,
   "metadata": {},
   "outputs": [],
   "source": [
    "# /home/ordovas/IRONHACK/dice-scores-recognition/own_dataset/d6/test/2/VID_20201209_201842~2_105_3.jpg"
   ]
  },
  {
   "cell_type": "code",
   "execution_count": 103,
   "metadata": {},
   "outputs": [],
   "source": []
  },
  {
   "cell_type": "code",
   "execution_count": 640,
   "metadata": {},
   "outputs": [
    {
     "data": {
      "text/plain": [
       "(2688, 1512, 3)"
      ]
     },
     "execution_count": 640,
     "metadata": {},
     "output_type": "execute_result"
    }
   ],
   "source": [
    "lnk=\"img_testing/IMG_20201212_120709.jpg\"\n",
    "#lnk=\"/home/ordovas/IRONHACK/dice-scores-recognition/own_dataset/1d6/test/6/VID_20201211_171045_150.jpg\"\n",
    "\n",
    "img_pru = cv2.imread(lnk, cv2.COLOR_RGB2BGR)\n",
    "\n",
    "im = Image.open(lnk)\n",
    "#im.show('image',im)\n",
    "type(im)\n",
    "img_pru = np.asarray(im)\n",
    "img_pru.shape"
   ]
  },
  {
   "cell_type": "code",
   "execution_count": 641,
   "metadata": {},
   "outputs": [
    {
     "data": {
      "text/plain": [
       "<matplotlib.image.AxesImage at 0x7f02ea2ed880>"
      ]
     },
     "execution_count": 641,
     "metadata": {},
     "output_type": "execute_result"
    },
    {
     "data": {
      "image/png": "[encoded data removed]",
      "text/plain": [
       "<Figure size 432x288 with 1 Axes>"
      ]
     },
     "metadata": {
      "needs_background": "light"
     },
     "output_type": "display_data"
    }
   ],
   "source": [
    "plt.imshow(img_pru)"
   ]
  },
  {
   "cell_type": "code",
   "execution_count": 642,
   "metadata": {},
   "outputs": [
    {
     "data": {
      "text/plain": [
       "(2688, 1512)"
      ]
     },
     "execution_count": 642,
     "metadata": {},
     "output_type": "execute_result"
    }
   ],
   "source": [
    "img_pru.shape\n",
    "blue=np.zeros((img_pru.shape[0],img_pru.shape[1]))\n",
    "blue.shape"
   ]
  },
  {
   "cell_type": "code",
   "execution_count": 643,
   "metadata": {},
   "outputs": [],
   "source": [
    "nn=20\n",
    "blue=np.zeros((img_pru.shape[0]//nn,img_pru.shape[1]//nn))\n",
    "red=np.zeros((img_pru.shape[0]//nn,img_pru.shape[1]//nn))\n",
    "for i in range(1,blue.shape[0]):\n",
    "    for j in range(1,blue.shape[1]):\n",
    "        if 200 < np.median(img_pru[i*nn:i*nn+nn,j*nn:j*nn+nn,0]-img_pru[i*nn:i*nn+nn,j*nn:j*nn+nn,1]): # blue\n",
    "            if 50 < np.median(img_pru[i*nn:i*nn+nn,j*nn:j*nn+nn,2]\n",
    "                               -np.median(img_pru[i*nn:i*nn+nn,j*nn:j*nn+nn,:])): #no white\n",
    "                blue[i,j]=1.\n",
    "\n",
    "                \n",
    "                #blue=np.zeros((img_pru.shape[0]//nn,img_pru.shape[1]//nn))\n",
    "\n",
    "for i in range(1,red.shape[0]):\n",
    "    for j in range(1,red.shape[1]):\n",
    "        if 200 < np.median(img_pru[i*nn:i*nn+nn,j*nn:j*nn+nn,1]-img_pru[i*nn:i*nn+nn,j*nn:j*nn+nn,2]): # blue\n",
    "            if 40 < np.median(img_pru[i*nn:i*nn+nn,j*nn:j*nn+nn,0]\n",
    "                               -np.median(img_pru[i*nn:i*nn+nn,j*nn:j*nn+nn,:])): #no white\n",
    "                red[i,j]=1.\n"
   ]
  },
  {
   "cell_type": "code",
   "execution_count": 644,
   "metadata": {},
   "outputs": [],
   "source": [
    "#resized = cv2.resize(blue, (50,50), interpolation = cv2.INTER_CUBIC)"
   ]
  },
  {
   "cell_type": "code",
   "execution_count": 645,
   "metadata": {},
   "outputs": [
    {
     "data": {
      "text/plain": [
       "(134, 75)"
      ]
     },
     "execution_count": 645,
     "metadata": {},
     "output_type": "execute_result"
    }
   ],
   "source": [
    "#resized2= cv2.resize(resized[20:50,40:70,:],(100,100),interpolation = cv2.INTER_AREA)\n",
    "blue.shape"
   ]
  },
  {
   "cell_type": "code",
   "execution_count": 646,
   "metadata": {},
   "outputs": [
    {
     "data": {
      "text/plain": [
       "<matplotlib.image.AxesImage at 0x7f02ea251760>"
      ]
     },
     "execution_count": 646,
     "metadata": {},
     "output_type": "execute_result"
    },
    {
     "data": {
      "image/png": "[encoded data removed]",
      "text/plain": [
       "<Figure size 432x288 with 1 Axes>"
      ]
     },
     "metadata": {
      "needs_background": "light"
     },
     "output_type": "display_data"
    }
   ],
   "source": [
    "plt.imshow(blue)"
   ]
  },
  {
   "cell_type": "code",
   "execution_count": 647,
   "metadata": {},
   "outputs": [
    {
     "data": {
      "text/plain": [
       "1.0"
      ]
     },
     "execution_count": 647,
     "metadata": {},
     "output_type": "execute_result"
    }
   ],
   "source": [
    "blue.max()"
   ]
  },
  {
   "cell_type": "code",
   "execution_count": 648,
   "metadata": {},
   "outputs": [
    {
     "data": {
      "text/plain": [
       "5.0"
      ]
     },
     "execution_count": 648,
     "metadata": {},
     "output_type": "execute_result"
    }
   ],
   "source": [
    "np.sum(blue)"
   ]
  },
  {
   "cell_type": "code",
   "execution_count": 649,
   "metadata": {},
   "outputs": [
    {
     "data": {
      "text/plain": [
       "array([ 0,  0,  0,  0,  0,  0,  0,  0,  0,  0,  0,  0,  0,  0,  0,  0,  0,\n",
       "        0,  0,  0,  0,  0,  0,  0,  0,  0,  0,  0,  0,  0,  0,  0,  0,  0,\n",
       "        0,  0,  0,  0,  0,  0,  0,  0,  0,  0,  0,  0,  0,  0,  0,  0,  0,\n",
       "        0,  0,  0,  0,  0,  0,  0,  0,  0,  0,  0,  0,  0,  0,  0,  0,  0,\n",
       "        0,  0,  0,  0,  0,  0,  0,  0,  0,  0,  0,  0,  0,  0,  0,  0,  0,\n",
       "        0,  0,  0,  0,  0,  0,  0,  0,  0,  0,  0,  0,  0,  0,  0,  0,  0,\n",
       "        0,  0,  0,  0,  0,  0,  0,  0,  0,  0,  0,  0,  0,  0,  0,  0,  0,\n",
       "        0, 12,  0,  0,  0,  0,  0,  0,  0,  0,  0,  0,  0,  0,  0])"
      ]
     },
     "execution_count": 649,
     "metadata": {},
     "output_type": "execute_result"
    }
   ],
   "source": [
    "np.argmax(blue, axis=1)\n"
   ]
  },
  {
   "cell_type": "code",
   "execution_count": 650,
   "metadata": {},
   "outputs": [
    {
     "name": "stdout",
     "output_type": "stream",
     "text": [
      "2400 240\n",
      "1.0 12 114 126 6 18\n"
     ]
    },
    {
     "data": {
      "text/plain": [
       "(2400, 240, 144)"
      ]
     },
     "execution_count": 650,
     "metadata": {},
     "output_type": "execute_result"
    }
   ],
   "source": [
    "ss=0\n",
    "r=5\n",
    "xm=int(np.max(np.argmax(blue, axis=0)))\n",
    "ym=int(np.max(np.argmax(blue, axis=1)))\n",
    "print(xm*nn,ym*nn)\n",
    "while ss < np.sum(blue)*0.900:\n",
    "    r+=1\n",
    "    croped = blue[max(xm-r,0):min(xm+r,blue.shape[0]),max(ym-r,0):min(ym+r,blue.shape[1])]\n",
    "    ss=np.sum(croped)\n",
    "    print(ss/np.sum(blue),r*2,max(xm-r,0),min(xm+r,blue.shape[0]),max(ym-r,0),min(ym+r,blue.shape[1]))\n",
    "    \n",
    "xm=xm*nn\n",
    "ym=ym*nn\n",
    "r=int(r*nn*1.2)\n",
    "\n",
    "xm,ym,r"
   ]
  },
  {
   "cell_type": "code",
   "execution_count": 651,
   "metadata": {},
   "outputs": [
    {
     "data": {
      "text/plain": [
       "(2256, 2544, 96, 75)"
      ]
     },
     "execution_count": 651,
     "metadata": {},
     "output_type": "execute_result"
    }
   ],
   "source": [
    "max(xm-r,0),min(xm+r,img_pru.shape[0]),max(ym-r,0),min(ym+r,blue.shape[1])"
   ]
  },
  {
   "cell_type": "code",
   "execution_count": 652,
   "metadata": {},
   "outputs": [],
   "source": [
    "resized2= cv2.resize(img_pru[max(xm-r,0):min(xm+r,img_pru.shape[0]),max(ym-r,0):min(ym+r,img_pru.shape[1])],(100,100),interpolation = cv2.INTER_AREA)"
   ]
  },
  {
   "cell_type": "code",
   "execution_count": null,
   "metadata": {},
   "outputs": [],
   "source": []
  },
  {
   "cell_type": "code",
   "execution_count": 653,
   "metadata": {},
   "outputs": [
    {
     "data": {
      "text/plain": [
       "<matplotlib.image.AxesImage at 0x7f02ea224e80>"
      ]
     },
     "execution_count": 653,
     "metadata": {},
     "output_type": "execute_result"
    },
    {
     "data": {
      "image/png": "[encoded data removed]",
      "text/plain": [
       "<Figure size 432x288 with 1 Axes>"
      ]
     },
     "metadata": {
      "needs_background": "light"
     },
     "output_type": "display_data"
    }
   ],
   "source": [
    "plt.imshow(resized2)"
   ]
  },
  {
   "cell_type": "code",
   "execution_count": 654,
   "metadata": {},
   "outputs": [
    {
     "data": {
      "text/plain": [
       "25.18"
      ]
     },
     "execution_count": 654,
     "metadata": {},
     "output_type": "execute_result"
    }
   ],
   "source": [
    "np.mean(np.argmax(resized, axis=0))"
   ]
  },
  {
   "cell_type": "code",
   "execution_count": 123,
   "metadata": {},
   "outputs": [
    {
     "data": {
      "text/plain": [
       "22.54"
      ]
     },
     "execution_count": 123,
     "metadata": {},
     "output_type": "execute_result"
    }
   ],
   "source": [
    "np.mean(np.argmax(resized, axis=1))"
   ]
  },
  {
   "cell_type": "code",
   "execution_count": 441,
   "metadata": {},
   "outputs": [],
   "source": [
    "import imutils\n",
    "\n",
    "img = cv2.imread(lnk)\n",
    "\n",
    "hsv = cv2.cvtColor(img, cv2.COLOR_BGR2HSV)\n",
    "\n",
    "lower_range = np.array([10,20,0])\n",
    "upper_range = np.array([90,195,255])\n",
    "mask = cv2.inRange(hsv, lower_range, upper_range)"
   ]
  },
  {
   "cell_type": "code",
   "execution_count": 442,
   "metadata": {},
   "outputs": [
    {
     "data": {
      "text/plain": [
       "<matplotlib.image.AxesImage at 0x7f02d1f7f5e0>"
      ]
     },
     "execution_count": 442,
     "metadata": {},
     "output_type": "execute_result"
    },
    {
     "data": {
      "image/png": "[encoded data removed]",
      "text/plain": [
       "<Figure size 432x288 with 1 Axes>"
      ]
     },
     "metadata": {
      "needs_background": "light"
     },
     "output_type": "display_data"
    }
   ],
   "source": [
    "plt.imshow(mask)"
   ]
  },
  {
   "cell_type": "code",
   "execution_count": null,
   "metadata": {},
   "outputs": [],
   "source": []
  },
  {
   "cell_type": "code",
   "execution_count": null,
   "metadata": {},
   "outputs": [],
   "source": []
  },
  {
   "cell_type": "code",
   "execution_count": null,
   "metadata": {},
   "outputs": [],
   "source": []
  },
  {
   "cell_type": "code",
   "execution_count": null,
   "metadata": {},
   "outputs": [],
   "source": []
  },
  {
   "cell_type": "code",
   "execution_count": null,
   "metadata": {},
   "outputs": [],
   "source": []
  },
  {
   "cell_type": "code",
   "execution_count": null,
   "metadata": {},
   "outputs": [],
   "source": []
  },
  {
   "cell_type": "code",
   "execution_count": null,
   "metadata": {},
   "outputs": [],
   "source": []
  },
  {
   "cell_type": "code",
   "execution_count": null,
   "metadata": {},
   "outputs": [],
   "source": []
  },
  {
   "cell_type": "code",
   "execution_count": null,
   "metadata": {},
   "outputs": [],
   "source": []
  },
  {
   "cell_type": "code",
   "execution_count": null,
   "metadata": {},
   "outputs": [],
   "source": []
  },
  {
   "cell_type": "code",
   "execution_count": 67,
   "metadata": {},
   "outputs": [
    {
     "data": {
      "text/plain": [
       "array([191, 191, 181], dtype=uint8)"
      ]
     },
     "execution_count": 67,
     "metadata": {},
     "output_type": "execute_result"
    }
   ],
   "source": [
    "resized[60,70,:]"
   ]
  },
  {
   "cell_type": "code",
   "execution_count": 17,
   "metadata": {},
   "outputs": [
    {
     "data": {
      "text/plain": [
       "array([194, 191, 184], dtype=uint8)"
      ]
     },
     "execution_count": 17,
     "metadata": {},
     "output_type": "execute_result"
    }
   ],
   "source": [
    "resized[0,0,:]"
   ]
  },
  {
   "cell_type": "code",
   "execution_count": 163,
   "metadata": {},
   "outputs": [],
   "source": [
    "resized=resized/255"
   ]
  },
  {
   "cell_type": "code",
   "execution_count": 164,
   "metadata": {},
   "outputs": [],
   "source": [
    "aa=np.array((resized,resized)).shape"
   ]
  },
  {
   "cell_type": "code",
   "execution_count": 165,
   "metadata": {},
   "outputs": [
    {
     "data": {
      "text/plain": [
       "'/home/ordovas/IRONHACK/dice-scores-recognition/own_dataset/d6/test/1/VID_20201211_170616_168.jpg'"
      ]
     },
     "execution_count": 165,
     "metadata": {},
     "output_type": "execute_result"
    }
   ],
   "source": [
    "\"/home/ordovas/IRONHACK/dice-scores-recognition/own_dataset/d6/test/1/VID_20201211_170616_168.jpg\""
   ]
  },
  {
   "cell_type": "code",
   "execution_count": null,
   "metadata": {},
   "outputs": [],
   "source": []
  },
  {
   "cell_type": "code",
   "execution_count": 166,
   "metadata": {},
   "outputs": [],
   "source": [
    "labels=['5', '1', '4', '3', '6', '2']"
   ]
  },
  {
   "cell_type": "code",
   "execution_count": 167,
   "metadata": {},
   "outputs": [],
   "source": [
    "pp=loaded_model.predict( np.array( [resized,] )  ) "
   ]
  },
  {
   "cell_type": "code",
   "execution_count": 168,
   "metadata": {},
   "outputs": [
    {
     "data": {
      "text/plain": [
       "array([[7.0938247e-23, 0.0000000e+00, 1.2310487e-08, 1.5589259e-29,\n",
       "        2.2104619e-15, 1.0000000e+00]], dtype=float32)"
      ]
     },
     "execution_count": 168,
     "metadata": {},
     "output_type": "execute_result"
    }
   ],
   "source": [
    "pp"
   ]
  },
  {
   "cell_type": "code",
   "execution_count": 122,
   "metadata": {},
   "outputs": [
    {
     "data": {
      "text/plain": [
       "array([1])"
      ]
     },
     "execution_count": 122,
     "metadata": {},
     "output_type": "execute_result"
    }
   ],
   "source": [
    "loaded_model.predict_classes( np.array( [resized,] )  ) "
   ]
  },
  {
   "cell_type": "code",
   "execution_count": null,
   "metadata": {},
   "outputs": [],
   "source": []
  },
  {
   "cell_type": "code",
   "execution_count": 82,
   "metadata": {},
   "outputs": [
    {
     "name": "stdout",
     "output_type": "stream",
     "text": [
      "['VID_20201211_170616_168.jpg', 'VID_20201211_170126_132.jpg', 'VID_20201211_170953_48.jpg', 'VID_20201211_170732_150.jpg', 'VID_20201211_170953_204.jpg', 'VID_20201211_170126_84.jpg', 'VID_20201211_170126_150.jpg', 'VID_20201211_170953_168.jpg', 'VID_20201211_170126_72.jpg', 'VID_20201211_170126_216.jpg', 'VID_20201211_170953_300.jpg', 'VID_20201211_170953_288.jpg', 'VID_20201211_170953_240.jpg', 'VID_20201211_170616_36.jpg', 'VID_20201211_160814_30.jpg', 'VID_20201211_170126_90.jpg', 'VID_20201211_170953_270.jpg', 'VID_20201211_170126_204.jpg', 'VID_20201211_170616_288.jpg', 'VID_20201211_170616_108.jpg', 'VID_20201211_160814_156.jpg', 'VID_20201211_160814_276.jpg', 'VID_20201211_170732_48.jpg', 'VID_20201211_170616_216.jpg', 'VID_20201211_170732_120.jpg', 'VID_20201211_170616_84.jpg', 'VID_20201211_160814_348.jpg', 'VID_20201211_160814_0.jpg', 'VID_20201211_160814_228.jpg', 'VID_20201211_160814_132.jpg', 'VID_20201211_170616_252.jpg', 'VID_20201211_170732_24.jpg', 'VID_20201211_160814_180.jpg', 'VID_20201211_160814_390.jpg', 'VID_20201211_160814_384.jpg', 'VID_20201211_160814_264.jpg', 'VID_20201211_170953_156.jpg', 'VID_20201211_170616_210.jpg', 'VID_20201211_170732_216.jpg', 'VID_20201211_160814_270.jpg', 'VID_20201211_170126_48.jpg', 'VID_20201211_160814_12.jpg', 'VID_20201211_170616_120.jpg', 'VID_20201211_170126_12.jpg', 'VID_20201211_170732_0.jpg', 'VID_20201211_160814_240.jpg', 'VID_20201211_170953_96.jpg', 'VID_20201211_170616_144.jpg', 'VID_20201211_170953_60.jpg', 'VID_20201211_160814_96.jpg', 'VID_20201211_170126_300.jpg', 'VID_20201211_170953_192.jpg', 'VID_20201211_160814_108.jpg', 'VID_20201211_160814_120.jpg', 'VID_20201211_170126_60.jpg', 'VID_20201211_160814_330.jpg', 'VID_20201211_160814_36.jpg', 'VID_20201211_170732_90.jpg', 'VID_20201211_170953_210.jpg', 'VID_20201211_170616_60.jpg', 'VID_20201211_170732_210.jpg', 'VID_20201211_160814_24.jpg', 'VID_20201211_170732_156.jpg', 'VID_20201211_170732_132.jpg', 'VID_20201211_170732_96.jpg', 'VID_20201211_170616_96.jpg', 'VID_20201211_170126_210.jpg', 'VID_20201211_160814_300.jpg', 'VID_20201211_170126_228.jpg', 'VID_20201211_170616_270.jpg', 'VID_20201211_170126_24.jpg', 'VID_20201211_170126_0.jpg', 'VID_20201211_170616_192.jpg', 'VID_20201211_170126_120.jpg', 'VID_20201211_160814_252.jpg', 'VID_20201211_170732_36.jpg', 'VID_20201211_170953_252.jpg', 'VID_20201211_160814_288.jpg', 'VID_20201211_170126_252.jpg', 'VID_20201211_170953_276.jpg', 'VID_20201211_170126_276.jpg', 'VID_20201211_160814_84.jpg', 'VID_20201211_170732_84.jpg', 'VID_20201211_170953_120.jpg', 'VID_20201211_170616_240.jpg', 'VID_20201211_170953_216.jpg', 'VID_20201211_170732_168.jpg', 'VID_20201211_170616_156.jpg', 'VID_20201211_170126_240.jpg', 'VID_20201211_170953_132.jpg', 'VID_20201211_170953_84.jpg', 'VID_20201211_170953_24.jpg', 'VID_20201211_170953_12.jpg', 'VID_20201211_170126_168.jpg', 'VID_20201211_170126_264.jpg', 'VID_20201211_170616_132.jpg', 'VID_20201211_170126_156.jpg', 'VID_20201211_160814_72.jpg', 'VID_20201211_160814_150.jpg', 'VID_20201211_170616_180.jpg', 'VID_20201211_160814_90.jpg', 'VID_20201211_170732_72.jpg', 'VID_20201211_170953_30.jpg', 'VID_20201211_160814_210.jpg', 'VID_20201211_170953_312.jpg', 'VID_20201211_170616_24.jpg', 'VID_20201211_160814_372.jpg', 'VID_20201211_170126_288.jpg', 'VID_20201211_170732_30.jpg', 'VID_20201211_160814_60.jpg', 'VID_20201211_170616_150.jpg', 'VID_20201211_170126_270.jpg', 'VID_20201211_160814_48.jpg', 'VID_20201211_170126_36.jpg', 'VID_20201211_170126_180.jpg', 'VID_20201211_160814_312.jpg', 'VID_20201211_160814_324.jpg', 'VID_20201211_170616_228.jpg', 'VID_20201211_160814_336.jpg', 'VID_20201211_160814_216.jpg', 'VID_20201211_170616_72.jpg', 'VID_20201211_170732_180.jpg', 'VID_20201211_170616_90.jpg', 'VID_20201211_170126_30.jpg', 'VID_20201211_170953_72.jpg', 'VID_20201211_170953_264.jpg', 'VID_20201211_170616_12.jpg', 'VID_20201211_170616_48.jpg', 'VID_20201211_170953_108.jpg', 'VID_20201211_170126_96.jpg', 'VID_20201211_170953_90.jpg', 'VID_20201211_170953_180.jpg', 'VID_20201211_170732_60.jpg', 'VID_20201211_170732_108.jpg', 'VID_20201211_170126_144.jpg', 'VID_20201211_160814_360.jpg', 'VID_20201211_160814_192.jpg', 'VID_20201211_160814_204.jpg', 'VID_20201211_170732_204.jpg', 'VID_20201211_170126_192.jpg', 'VID_20201211_170953_36.jpg', 'VID_20201211_170616_0.jpg', 'VID_20201211_170616_264.jpg', 'VID_20201211_170616_30.jpg', 'VID_20201211_170616_300.jpg', 'VID_20201211_170616_204.jpg', 'VID_20201211_170732_12.jpg', 'VID_20201211_160814_168.jpg', 'VID_20201211_170953_150.jpg', 'VID_20201211_170126_108.jpg', 'VID_20201211_170953_0.jpg', 'VID_20201211_170616_276.jpg', 'VID_20201211_170732_144.jpg', 'VID_20201211_170732_192.jpg', 'VID_20201211_170953_228.jpg', 'VID_20201211_160814_144.jpg', 'VID_20201211_170953_144.jpg']\n"
     ]
    }
   ],
   "source": [
    "#print(os.listdir('own_dataset/1d6/test/1/'))"
   ]
  },
  {
   "cell_type": "code",
   "execution_count": 178,
   "metadata": {},
   "outputs": [
    {
     "name": "stdout",
     "output_type": "stream",
     "text": [
      "VID_20201211_171045_156.jpg\n",
      "VID_20201211_171045_150.jpg\n"
     ]
    }
   ],
   "source": [
    "dd=[]\n",
    "labels=[5, 1, 4, 3, 6, 2]\n",
    "for l in os.listdir(\"own_dataset/1d6/test/6\"):\n",
    "    #img_pru = cv2.imread()\n",
    "    im = Image.open(\"own_dataset/1d6/test/6/\"+l)\n",
    "\n",
    "    img_pru = np.asarray(im)\n",
    "    resized = cv2.resize(img_pru, (100,100), interpolation = cv2.INTER_AREA)\n",
    "    resized=resized/255\n",
    "    la  = labels[loaded_model.predict_classes( np.array( [resized,] )  )[0]] \n",
    "    dd.append( la )\n",
    "    if la != 6:\n",
    "        print(l)"
   ]
  },
  {
   "cell_type": "code",
   "execution_count": 175,
   "metadata": {},
   "outputs": [
    {
     "data": {
      "text/plain": [
       "(array([  1.,   0.,   1.,   0.,   0.,   0.,   0.,   0.,   0., 144.]),\n",
       " array([2. , 2.4, 2.8, 3.2, 3.6, 4. , 4.4, 4.8, 5.2, 5.6, 6. ]),\n",
       " <BarContainer object of 10 artists>)"
      ]
     },
     "execution_count": 175,
     "metadata": {},
     "output_type": "execute_result"
    },
    {
     "data": {
      "image/png": "[encoded data removed]",
      "text/plain": [
       "<Figure size 432x288 with 1 Axes>"
      ]
     },
     "metadata": {
      "needs_background": "light"
     },
     "output_type": "display_data"
    }
   ],
   "source": [
    "plt.hist(dd)"
   ]
  },
  {
   "cell_type": "code",
   "execution_count": 176,
   "metadata": {},
   "outputs": [
    {
     "name": "stdout",
     "output_type": "stream",
     "text": [
      "[6, 6, 6, 6, 6, 6, 6, 6, 6, 6, 6, 6, 6, 6, 6, 6, 6, 6, 6, 2, 6, 6, 6, 6, 6, 6, 6, 6, 6, 6, 6, 6, 6, 6, 6, 6, 6, 6, 6, 6, 6, 6, 6, 6, 6, 6, 6, 6, 6, 6, 6, 6, 6, 6, 6, 6, 6, 6, 6, 6, 6, 6, 6, 6, 6, 6, 6, 6, 6, 6, 6, 6, 6, 6, 6, 6, 6, 6, 6, 6, 6, 6, 6, 6, 6, 6, 6, 6, 6, 6, 6, 6, 6, 6, 6, 6, 6, 6, 3, 6, 6, 6, 6, 6, 6, 6, 6, 6, 6, 6, 6, 6, 6, 6, 6, 6, 6, 6, 6, 6, 6, 6, 6, 6, 6, 6, 6, 6, 6, 6, 6, 6, 6, 6, 6, 6, 6, 6, 6, 6, 6, 6, 6, 6, 6, 6]\n"
     ]
    }
   ],
   "source": [
    "print(dd)"
   ]
  },
  {
   "cell_type": "code",
   "execution_count": 135,
   "metadata": {},
   "outputs": [],
   "source": [
    "labels=['5', '1', '4', '3', '6', '2']"
   ]
  },
  {
   "cell_type": "code",
   "execution_count": 3,
   "metadata": {},
   "outputs": [
    {
     "data": {
      "text/plain": [
       "34.72222222222222"
      ]
     },
     "execution_count": 3,
     "metadata": {},
     "output_type": "execute_result"
    }
   ],
   "source": [
    "500*250/3600"
   ]
  },
  {
   "cell_type": "code",
   "execution_count": 2,
   "metadata": {},
   "outputs": [
    {
     "data": {
      "text/plain": [
       "2.875"
      ]
     },
     "execution_count": 2,
     "metadata": {},
     "output_type": "execute_result"
    }
   ],
   "source": [
    "69/24"
   ]
  },
  {
   "cell_type": "code",
   "execution_count": null,
   "metadata": {},
   "outputs": [],
   "source": []
  }
 ],
 "metadata": {
  "kernelspec": {
   "display_name": "Python 3",
   "language": "python",
   "name": "python3"
  },
  "language_info": {
   "codemirror_mode": {
    "name": "ipython",
    "version": 3
   },
   "file_extension": ".py",
   "mimetype": "text/x-python",
   "name": "python",
   "nbconvert_exporter": "python",
   "pygments_lexer": "ipython3",
   "version": "3.8.3"
  }
 },
 "nbformat": 4,
 "nbformat_minor": 4
}
