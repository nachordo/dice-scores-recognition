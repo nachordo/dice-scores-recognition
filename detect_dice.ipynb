{
 "cells": [
  {
   "cell_type": "code",
   "execution_count": 14,
   "metadata": {},
   "outputs": [],
   "source": [
    "import cv2 \n",
    "import os \n",
    "import random\n",
    "import numpy as np\n",
    "\n",
    "#  \"/home/ordovas/IRONHACK/dice-scores-recognition/data/shape_1d6\"\n",
    "\n",
    "from imageai.Detection.Custom import DetectionModelTrainer\n",
    "\n",
    "from PIL import Image"
   ]
  },
  {
   "cell_type": "code",
   "execution_count": 15,
   "metadata": {},
   "outputs": [
    {
     "data": {
      "text/plain": [
       "'\\ncv2.selectROI(im)\\n\\n\\n\\ntrainer = DetectionModelTrainer()\\ntrainer.setModelTypeAsYOLOv3()\\ntrainer.setDataDirectory(data_directory=\"data/shape_1d6\")\\ntrainer.setTrainConfig(object_names_array=[\"blue 1d6\"], batch_size=4, num_experiments=100, train_from_pretrained_model=\"pretrained-yolov3.h5\")\\ntrainer.trainModel()\\n'"
      ]
     },
     "execution_count": 15,
     "metadata": {},
     "output_type": "execute_result"
    }
   ],
   "source": [
    "\n",
    "\"\"\"\n",
    "cv2.selectROI(im)\n",
    "\n",
    "\n",
    "\n",
    "trainer = DetectionModelTrainer()\n",
    "trainer.setModelTypeAsYOLOv3()\n",
    "trainer.setDataDirectory(data_directory=\"data/shape_1d6\")\n",
    "trainer.setTrainConfig(object_names_array=[\"blue 1d6\"], batch_size=4, num_experiments=100, train_from_pretrained_model=\"pretrained-yolov3.h5\")\n",
    "trainer.trainModel()\n",
    "\"\"\"\n"
   ]
  },
  {
   "cell_type": "code",
   "execution_count": 16,
   "metadata": {},
   "outputs": [],
   "source": [
    "path = \"/home/ordovas/IRONHACK/dice-scores-recognition/img_testing/IMG_20201212_120703.jpg\""
   ]
  },
  {
   "cell_type": "code",
   "execution_count": 17,
   "metadata": {},
   "outputs": [],
   "source": [
    "img = Image.open(path)\n",
    "img = np.asarray(img)\n",
    "\n",
    "im = cv2.resize(img, (img.shape[0],img.shape[1]), interpolation=cv2.INTER_LINEAR) "
   ]
  },
  {
   "cell_type": "code",
   "execution_count": null,
   "metadata": {},
   "outputs": [],
   "source": [
    "cv2.selectROI(im)"
   ]
  },
  {
   "cell_type": "code",
   "execution_count": null,
   "metadata": {},
   "outputs": [],
   "source": []
  }
 ],
 "metadata": {
  "kernelspec": {
   "display_name": "Python 3",
   "language": "python",
   "name": "python3"
  },
  "language_info": {
   "codemirror_mode": {
    "name": "ipython",
    "version": 3
   },
   "file_extension": ".py",
   "mimetype": "text/x-python",
   "name": "python",
   "nbconvert_exporter": "python",
   "pygments_lexer": "ipython3",
   "version": "3.8.3"
  }
 },
 "nbformat": 4,
 "nbformat_minor": 4
}
