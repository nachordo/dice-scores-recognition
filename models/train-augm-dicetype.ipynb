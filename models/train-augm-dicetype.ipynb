{
 "cells": [
  {
   "cell_type": "code",
   "execution_count": null,
   "metadata": {},
   "outputs": [],
   "source": [
    "import numpy as np\n",
    "import pandas as pd\n",
    "import matplotlib.pyplot as plt\n",
    "import tensorflow as tf\n",
    "import os\n",
    "from sklearn.model_selection import train_test_split\n",
    "\n",
    "\n",
    "from tensorflow.keras.preprocessing.image import ImageDataGenerator\n",
    "\n",
    "import cv2\n",
    "\n",
    "\n",
    "from tensorflow.keras import Sequential\n",
    "from tensorflow.keras.layers import Conv2D\n",
    "from tensorflow.keras.layers import MaxPooling2D\n",
    "\n",
    "from tensorflow.keras.optimizers import Adam\n",
    "from tensorflow.keras.layers import Dense, Flatten\n",
    "\n",
    "from tensorflow.keras.models import model_from_json"
   ]
  },
  {
   "cell_type": "code",
   "execution_count": null,
   "metadata": {},
   "outputs": [],
   "source": [
    "print(os.listdir('../own_dataset/diferent_dice/train'))"
   ]
  },
  {
   "cell_type": "code",
   "execution_count": null,
   "metadata": {},
   "outputs": [],
   "source": [
    "train_path= ('../own_dataset/diferent_dice/train')\n",
    "test_path= ('../own_dataset/diferent_dice/test')"
   ]
  },
  {
   "cell_type": "code",
   "execution_count": null,
   "metadata": {},
   "outputs": [],
   "source": [
    "batch_size_train=30  #,batch_size= batch_size_train\n",
    "batch_size_valid=30\n",
    "targetsize= 50\n",
    "datagen=ImageDataGenerator(rotation_range=180,height_shift_range=0.1,rescale=1.0/255.0\n",
    "                           ,zoom_range=[0.7,1.1],brightness_range=[0.4,1.2])\n",
    "train_batches= datagen.flow_from_directory(train_path, target_size=(targetsize,targetsize), \n",
    "                              classes=os.listdir('../own_dataset/diferent_dice/train'),\n",
    "                              batch_size= batch_size_train)\n",
    "test_batches= datagen.flow_from_directory(test_path,  target_size=(targetsize,targetsize), \n",
    "                              classes=os.listdir('../own_dataset/diferent_dice/train'),\n",
    "                              batch_size= batch_size_train)"
   ]
  },
  {
   "cell_type": "code",
   "execution_count": null,
   "metadata": {},
   "outputs": [],
   "source": [
    "\n",
    "model2 = Sequential()\n",
    "model2.add(Conv2D(32, (3,3), padding='same', activation='relu', input_shape=(targetsize,targetsize, 3)) )\n",
    "model2.add(MaxPooling2D((2, 2)))\n",
    "\n",
    "model2.add(Conv2D(filters=64, kernel_size=(3,3), padding='SAME', activation='relu'))\n",
    "model2.add(MaxPooling2D((2, 2)))\n",
    "\n",
    "\n",
    "model2.add(Conv2D(filters=128, kernel_size=(3,3), padding='SAME', activation='relu'))\n",
    "model2.add(MaxPooling2D((2, 2)))\n",
    "\n",
    "#model2.add(Conv2D(filters=256, kernel_size=(3,3), padding='SAME', activation='relu'))\n",
    "#model2.add(MaxPooling2D((2, 2)))\n",
    "\n",
    "#model2.add(Conv2D(filters=512, kernel_size=(3,3), padding='SAME', activation='relu'))\n",
    "#model2.add(MaxPooling2D((2, 2)))\n",
    "\n",
    "model2.add(Flatten())\n",
    "model2.add(Dense(len(os.listdir('../own_dataset/diferent_dice/train')), activation='softmax'))\n",
    "model2.summary()"
   ]
  },
  {
   "cell_type": "code",
   "execution_count": null,
   "metadata": {},
   "outputs": [],
   "source": [
    "model2.compile(Adam(lr=.0002), loss='categorical_crossentropy', metrics= ['accuracy'])\n",
    "history2= model2.fit_generator(train_batches, steps_per_epoch= len(train_batches) , \n",
    "                             validation_data=test_batches, validation_steps= len(test_batches), \n",
    "                             epochs=10)"
   ]
  },
  {
   "cell_type": "code",
   "execution_count": null,
   "metadata": {},
   "outputs": [],
   "source": [
    "history2= model2.fit_generator(train_batches, steps_per_epoch= len(train_batches) , \n",
    "                             validation_data=test_batches, validation_steps= len(test_batches), \n",
    "                             epochs=3)"
   ]
  },
  {
   "cell_type": "code",
   "execution_count": null,
   "metadata": {},
   "outputs": [],
   "source": [
    "cp_callback=tf.keras.callbacks.ModelCheckpoint(filepath=os.getcwd(),save_weights_only=True,verbose=1)"
   ]
  },
  {
   "cell_type": "code",
   "execution_count": null,
   "metadata": {},
   "outputs": [],
   "source": [
    "model2.save('model_difdices_final.h5')"
   ]
  },
  {
   "cell_type": "code",
   "execution_count": null,
   "metadata": {},
   "outputs": [],
   "source": [
    "model2_json = model2.to_json()\n",
    "with open(\"model_difdices_final.json\", \"w\") as json_file:\n",
    "    json_file.write(model2_json)"
   ]
  },
  {
   "cell_type": "code",
   "execution_count": null,
   "metadata": {},
   "outputs": [],
   "source": [
    "\n"
   ]
  },
  {
   "cell_type": "code",
   "execution_count": null,
   "metadata": {},
   "outputs": [],
   "source": []
  },
  {
   "cell_type": "code",
   "execution_count": null,
   "metadata": {},
   "outputs": [],
   "source": []
  },
  {
   "cell_type": "code",
   "execution_count": null,
   "metadata": {},
   "outputs": [],
   "source": []
  }
 ],
 "metadata": {
  "kernelspec": {
   "display_name": "Python 3",
   "language": "python",
   "name": "python3"
  },
  "language_info": {
   "codemirror_mode": {
    "name": "ipython",
    "version": 3
   },
   "file_extension": ".py",
   "mimetype": "text/x-python",
   "name": "python",
   "nbconvert_exporter": "python",
   "pygments_lexer": "ipython3",
   "version": "3.8.3"
  }
 },
 "nbformat": 4,
 "nbformat_minor": 4
}
