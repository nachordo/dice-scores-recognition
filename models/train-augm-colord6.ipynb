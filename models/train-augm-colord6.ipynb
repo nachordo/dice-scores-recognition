{
 "cells": [
  {
   "cell_type": "code",
   "execution_count": 1,
   "metadata": {},
   "outputs": [],
   "source": [
    "import numpy as np\n",
    "import pandas as pd\n",
    "import matplotlib.pyplot as plt\n",
    "import tensorflow as tf\n",
    "import os\n",
    "from sklearn.model_selection import train_test_split\n",
    "\n",
    "\n",
    "from tensorflow.keras.preprocessing.image import ImageDataGenerator\n",
    "\n",
    "import cv2\n",
    "\n",
    "\n",
    "from tensorflow.keras import Sequential\n",
    "from tensorflow.keras.layers import Conv2D\n",
    "from tensorflow.keras.layers import MaxPooling2D\n",
    "\n",
    "from tensorflow.keras.optimizers import Adam\n",
    "from tensorflow.keras.layers import Dense, Flatten\n",
    "\n",
    "from tensorflow.keras.models import model_from_json"
   ]
  },
  {
   "cell_type": "code",
   "execution_count": 2,
   "metadata": {},
   "outputs": [
    {
     "name": "stdout",
     "output_type": "stream",
     "text": [
      "['red_1d6', 'blue_1d6']\n"
     ]
    }
   ],
   "source": [
    "print(os.listdir('../own_dataset/diferent_dice/train'))"
   ]
  },
  {
   "cell_type": "code",
   "execution_count": 3,
   "metadata": {},
   "outputs": [],
   "source": [
    "train_path= ('../own_dataset/diferent_dice/train')\n",
    "test_path= ('../own_dataset/diferent_dice/test')"
   ]
  },
  {
   "cell_type": "code",
   "execution_count": 4,
   "metadata": {},
   "outputs": [
    {
     "name": "stdout",
     "output_type": "stream",
     "text": [
      "Found 2464 images belonging to 2 classes.\n",
      "Found 576 images belonging to 2 classes.\n"
     ]
    }
   ],
   "source": [
    "batch_size_train=30  #,batch_size= batch_size_train\n",
    "batch_size_valid=30\n",
    "targetsize= 50\n",
    "datagen=ImageDataGenerator(rotation_range=180,height_shift_range=0.1,rescale=1.0/255.0\n",
    "                           ,zoom_range=[0.7,1.1],brightness_range=[0.4,1.2])\n",
    "train_batches= datagen.flow_from_directory(train_path, target_size=(targetsize,targetsize), \n",
    "                              classes=os.listdir('../own_dataset/diferent_dice/train'),\n",
    "                              batch_size= batch_size_train)\n",
    "test_batches= datagen.flow_from_directory(test_path,  target_size=(targetsize,targetsize), \n",
    "                              classes=os.listdir('../own_dataset/diferent_dice/train'),\n",
    "                              batch_size= batch_size_train)"
   ]
  },
  {
   "cell_type": "code",
   "execution_count": null,
   "metadata": {},
   "outputs": [],
   "source": []
  },
  {
   "cell_type": "code",
   "execution_count": null,
   "metadata": {},
   "outputs": [],
   "source": []
  },
  {
   "cell_type": "code",
   "execution_count": null,
   "metadata": {},
   "outputs": [],
   "source": []
  },
  {
   "cell_type": "code",
   "execution_count": 5,
   "metadata": {},
   "outputs": [],
   "source": [
    "def plots(ims, figsize=(20,10), rows=1, interp= False, titles= None):\n",
    "    if type(ims[0]) is np.ndarray:\n",
    "        ims = np.array(ims).astype(np.uint8)\n",
    "        if (ims.shape[-1] != 3):\n",
    "            ims= ims.transpose((0,1,2,3))\n",
    "    f= plt.figure(figsize=figsize)\n",
    "    cols= len(ims)//rows if len(ims) %2 == 0 else len(ims)//rows + 1\n",
    "    for i in range(len(ims)):\n",
    "        sp = f.add_subplot(rows, cols, i+1)\n",
    "        sp.axis('Off')\n",
    "        if titles is not None:\n",
    "            sp.set_title(titles[i], fontsize=12)\n",
    "        plt.imshow(ims[i], interpolation=None if interp else 'none')"
   ]
  },
  {
   "cell_type": "code",
   "execution_count": null,
   "metadata": {},
   "outputs": [],
   "source": []
  },
  {
   "cell_type": "code",
   "execution_count": null,
   "metadata": {},
   "outputs": [],
   "source": []
  },
  {
   "cell_type": "code",
   "execution_count": null,
   "metadata": {},
   "outputs": [],
   "source": []
  },
  {
   "cell_type": "code",
   "execution_count": null,
   "metadata": {},
   "outputs": [],
   "source": []
  },
  {
   "cell_type": "code",
   "execution_count": null,
   "metadata": {},
   "outputs": [],
   "source": []
  },
  {
   "cell_type": "code",
   "execution_count": null,
   "metadata": {},
   "outputs": [],
   "source": []
  },
  {
   "cell_type": "code",
   "execution_count": null,
   "metadata": {},
   "outputs": [],
   "source": []
  },
  {
   "cell_type": "code",
   "execution_count": null,
   "metadata": {},
   "outputs": [],
   "source": []
  },
  {
   "cell_type": "code",
   "execution_count": null,
   "metadata": {},
   "outputs": [],
   "source": []
  },
  {
   "cell_type": "code",
   "execution_count": null,
   "metadata": {},
   "outputs": [],
   "source": [
    "\n"
   ]
  },
  {
   "cell_type": "code",
   "execution_count": 6,
   "metadata": {},
   "outputs": [],
   "source": [
    "reduce_lr = tf.keras.callbacks.LearningRateScheduler(lambda x: 1e-3 *0.95**x)"
   ]
  },
  {
   "cell_type": "code",
   "execution_count": null,
   "metadata": {},
   "outputs": [],
   "source": []
  },
  {
   "cell_type": "code",
   "execution_count": 7,
   "metadata": {},
   "outputs": [
    {
     "data": {
      "text/plain": [
       "\"\\n\\nnfilters = [8, 16]\\nkernel_sizes = [(4,4), (2,2)]\\n\\n\\nmodel = Sequential()\\n# CONV1 (ReLU) > POOL1\\nmodel.add(Conv2D(nfilters[0], kernel_sizes[0], # 8 filters, 4x4\\n                 strides=(1,1),\\n                 padding='same', \\n                 input_shape=(targetsize,targetsize, 3),activation='relu'))\\nmodel.add(MaxPooling2D(pool_size=(8,8),\\n                       strides=(8,8),\\n                       padding='same'))\\n# CONV2 (ReLU) > POOL2\\nmodel.add(Conv2D(nfilters[1], kernel_sizes[1], # 16 filters, 2x2\\n                 strides=(1,1),\\n                 padding='same',activation='relu'))\\nmodel.add(MaxPooling2D(pool_size=(4,4),\\n                       strides=(4,4),\\n                       padding='same'))\\n\\n# Fully connected layer with softmax\\nmodel.add(Flatten())\\nmodel.add(Dense(6, activation='softmax'))\\nmodel.summary()\\n\""
      ]
     },
     "execution_count": 7,
     "metadata": {},
     "output_type": "execute_result"
    }
   ],
   "source": [
    "\"\"\"\n",
    "\n",
    "nfilters = [8, 16]\n",
    "kernel_sizes = [(4,4), (2,2)]\n",
    "\n",
    "\n",
    "model = Sequential()\n",
    "# CONV1 (ReLU) > POOL1\n",
    "model.add(Conv2D(nfilters[0], kernel_sizes[0], # 8 filters, 4x4\n",
    "                 strides=(1,1),\n",
    "                 padding='same', \n",
    "                 input_shape=(targetsize,targetsize, 3),activation='relu'))\n",
    "model.add(MaxPooling2D(pool_size=(8,8),\n",
    "                       strides=(8,8),\n",
    "                       padding='same'))\n",
    "# CONV2 (ReLU) > POOL2\n",
    "model.add(Conv2D(nfilters[1], kernel_sizes[1], # 16 filters, 2x2\n",
    "                 strides=(1,1),\n",
    "                 padding='same',activation='relu'))\n",
    "model.add(MaxPooling2D(pool_size=(4,4),\n",
    "                       strides=(4,4),\n",
    "                       padding='same'))\n",
    "\n",
    "# Fully connected layer with softmax\n",
    "model.add(Flatten())\n",
    "model.add(Dense(6, activation='softmax'))\n",
    "model.summary()\n",
    "\"\"\""
   ]
  },
  {
   "cell_type": "code",
   "execution_count": null,
   "metadata": {
    "scrolled": true
   },
   "outputs": [],
   "source": []
  },
  {
   "cell_type": "code",
   "execution_count": 8,
   "metadata": {},
   "outputs": [
    {
     "data": {
      "text/plain": [
       "\"\\nmodel.compile(Adam(lr=.0002), loss='categorical_crossentropy', metrics= ['accuracy'])\\nhistory= model.fit_generator(train_batches, steps_per_epoch= len(train_batches) , callbacks=[reduce_lr],\\n                             validation_data=train_batches, validation_steps= len(train_batches), \\n                             epochs=500)\\n\""
      ]
     },
     "execution_count": 8,
     "metadata": {},
     "output_type": "execute_result"
    }
   ],
   "source": [
    "\n",
    "\"\"\"\n",
    "model.compile(Adam(lr=.0002), loss='categorical_crossentropy', metrics= ['accuracy'])\n",
    "history= model.fit_generator(train_batches, steps_per_epoch= len(train_batches) , callbacks=[reduce_lr],\n",
    "                             validation_data=train_batches, validation_steps= len(train_batches), \n",
    "                             epochs=500)\n",
    "\"\"\""
   ]
  },
  {
   "cell_type": "code",
   "execution_count": null,
   "metadata": {},
   "outputs": [],
   "source": []
  },
  {
   "cell_type": "code",
   "execution_count": null,
   "metadata": {},
   "outputs": [],
   "source": []
  },
  {
   "cell_type": "code",
   "execution_count": 9,
   "metadata": {},
   "outputs": [],
   "source": [
    "#cp_callback=tf.keras.callbacks.ModelCheckpoint(filepath=os.getcwd(),save_weights_only=True,verbose=1)"
   ]
  },
  {
   "cell_type": "code",
   "execution_count": 10,
   "metadata": {},
   "outputs": [],
   "source": [
    "#model.save('/home/ordovas/IRONHACK/dice-scores-recognition/model_d6_augmented_c1.h5')"
   ]
  },
  {
   "cell_type": "code",
   "execution_count": null,
   "metadata": {},
   "outputs": [],
   "source": []
  },
  {
   "cell_type": "code",
   "execution_count": 11,
   "metadata": {},
   "outputs": [
    {
     "name": "stdout",
     "output_type": "stream",
     "text": [
      "Model: \"sequential\"\n",
      "_________________________________________________________________\n",
      "Layer (type)                 Output Shape              Param #   \n",
      "=================================================================\n",
      "conv2d (Conv2D)              (None, 50, 50, 32)        896       \n",
      "_________________________________________________________________\n",
      "max_pooling2d (MaxPooling2D) (None, 25, 25, 32)        0         \n",
      "_________________________________________________________________\n",
      "conv2d_1 (Conv2D)            (None, 25, 25, 64)        18496     \n",
      "_________________________________________________________________\n",
      "max_pooling2d_1 (MaxPooling2 (None, 12, 12, 64)        0         \n",
      "_________________________________________________________________\n",
      "conv2d_2 (Conv2D)            (None, 12, 12, 128)       73856     \n",
      "_________________________________________________________________\n",
      "max_pooling2d_2 (MaxPooling2 (None, 6, 6, 128)         0         \n",
      "_________________________________________________________________\n",
      "flatten (Flatten)            (None, 4608)              0         \n",
      "_________________________________________________________________\n",
      "dense (Dense)                (None, 2)                 9218      \n",
      "=================================================================\n",
      "Total params: 102,466\n",
      "Trainable params: 102,466\n",
      "Non-trainable params: 0\n",
      "_________________________________________________________________\n"
     ]
    }
   ],
   "source": [
    "\n",
    "model2 = Sequential()\n",
    "model2.add(Conv2D(32, (3,3), padding='same', activation='relu', input_shape=(targetsize,targetsize, 3)) )\n",
    "model2.add(MaxPooling2D((2, 2)))\n",
    "\n",
    "model2.add(Conv2D(filters=64, kernel_size=(3,3), padding='SAME', activation='relu'))\n",
    "model2.add(MaxPooling2D((2, 2)))\n",
    "\n",
    "\n",
    "model2.add(Conv2D(filters=128, kernel_size=(3,3), padding='SAME', activation='relu'))\n",
    "model2.add(MaxPooling2D((2, 2)))\n",
    "\n",
    "#model2.add(Conv2D(filters=256, kernel_size=(3,3), padding='SAME', activation='relu'))\n",
    "#model2.add(MaxPooling2D((2, 2)))\n",
    "\n",
    "#model2.add(Conv2D(filters=512, kernel_size=(3,3), padding='SAME', activation='relu'))\n",
    "#model2.add(MaxPooling2D((2, 2)))\n",
    "\n",
    "model2.add(Flatten())\n",
    "model2.add(Dense(len(os.listdir('../own_dataset/diferent_dice/train')), activation='softmax'))\n",
    "model2.summary()"
   ]
  },
  {
   "cell_type": "code",
   "execution_count": 12,
   "metadata": {},
   "outputs": [
    {
     "name": "stdout",
     "output_type": "stream",
     "text": [
      "WARNING:tensorflow:From <ipython-input-12-f6d32d39ba08>:2: Model.fit_generator (from tensorflow.python.keras.engine.training) is deprecated and will be removed in a future version.\n",
      "Instructions for updating:\n",
      "Please use Model.fit, which supports generators.\n",
      "Epoch 1/10\n",
      "83/83 [==============================] - 56s 670ms/step - loss: 0.6429 - accuracy: 0.6420 - val_loss: 0.5047 - val_accuracy: 0.9184\n",
      "Epoch 2/10\n",
      "83/83 [==============================] - 56s 677ms/step - loss: 0.1929 - accuracy: 0.9801 - val_loss: 0.1024 - val_accuracy: 0.9653\n",
      "Epoch 3/10\n",
      "83/83 [==============================] - 54s 653ms/step - loss: 0.0283 - accuracy: 0.9963 - val_loss: 0.0301 - val_accuracy: 0.9913\n",
      "Epoch 4/10\n",
      "83/83 [==============================] - 49s 592ms/step - loss: 0.0107 - accuracy: 0.9996 - val_loss: 0.0201 - val_accuracy: 0.9913\n",
      "Epoch 5/10\n",
      "83/83 [==============================] - 56s 672ms/step - loss: 0.0057 - accuracy: 1.0000 - val_loss: 0.0152 - val_accuracy: 0.9983\n",
      "Epoch 6/10\n",
      "83/83 [==============================] - 58s 700ms/step - loss: 0.0028 - accuracy: 1.0000 - val_loss: 0.0101 - val_accuracy: 0.9983\n",
      "Epoch 7/10\n",
      "83/83 [==============================] - 59s 716ms/step - loss: 0.0042 - accuracy: 0.9992 - val_loss: 0.0117 - val_accuracy: 0.9965\n",
      "Epoch 8/10\n",
      "83/83 [==============================] - 62s 746ms/step - loss: 0.0020 - accuracy: 1.0000 - val_loss: 0.0108 - val_accuracy: 0.9948\n",
      "Epoch 9/10\n",
      "83/83 [==============================] - 63s 763ms/step - loss: 0.0024 - accuracy: 0.9996 - val_loss: 0.0053 - val_accuracy: 1.0000\n",
      "Epoch 10/10\n",
      "83/83 [==============================] - 57s 682ms/step - loss: 0.0033 - accuracy: 0.9992 - val_loss: 0.0046 - val_accuracy: 0.9983\n"
     ]
    }
   ],
   "source": [
    "model2.compile(Adam(lr=.0002), loss='categorical_crossentropy', metrics= ['accuracy'])\n",
    "history2= model2.fit_generator(train_batches, steps_per_epoch= len(train_batches) , \n",
    "                             validation_data=test_batches, validation_steps= len(test_batches), \n",
    "                             epochs=10)"
   ]
  },
  {
   "cell_type": "code",
   "execution_count": 19,
   "metadata": {},
   "outputs": [
    {
     "name": "stdout",
     "output_type": "stream",
     "text": [
      "Epoch 1/3\n",
      "83/83 [==============================] - 61s 734ms/step - loss: 6.1802e-04 - accuracy: 1.0000 - val_loss: 0.0042 - val_accuracy: 0.9983\n",
      "Epoch 2/3\n",
      "83/83 [==============================] - 62s 747ms/step - loss: 4.9783e-04 - accuracy: 1.0000 - val_loss: 0.0043 - val_accuracy: 0.9983\n",
      "Epoch 3/3\n",
      "83/83 [==============================] - 62s 748ms/step - loss: 6.3768e-04 - accuracy: 1.0000 - val_loss: 0.0023 - val_accuracy: 1.0000\n"
     ]
    }
   ],
   "source": [
    "history2= model2.fit_generator(train_batches, steps_per_epoch= len(train_batches) , \n",
    "                             validation_data=test_batches, validation_steps= len(test_batches), \n",
    "                             epochs=3)"
   ]
  },
  {
   "cell_type": "code",
   "execution_count": 25,
   "metadata": {},
   "outputs": [],
   "source": [
    "cp_callback=tf.keras.callbacks.ModelCheckpoint(filepath=os.getcwd(),save_weights_only=True,verbose=1)"
   ]
  },
  {
   "cell_type": "code",
   "execution_count": 26,
   "metadata": {},
   "outputs": [],
   "source": [
    "model2.save('model_difdices_final.h5')"
   ]
  },
  {
   "cell_type": "code",
   "execution_count": null,
   "metadata": {},
   "outputs": [],
   "source": []
  },
  {
   "cell_type": "code",
   "execution_count": null,
   "metadata": {},
   "outputs": [],
   "source": []
  },
  {
   "cell_type": "code",
   "execution_count": 27,
   "metadata": {},
   "outputs": [],
   "source": [
    "model2_json = model2.to_json()\n",
    "with open(\"model_difdices_final.json\", \"w\") as json_file:\n",
    "    json_file.write(model2_json)"
   ]
  },
  {
   "cell_type": "code",
   "execution_count": 16,
   "metadata": {},
   "outputs": [],
   "source": [
    "# https://machinelearningmastery.com/save-load-keras-deep-learning-models/\n",
    "\n"
   ]
  },
  {
   "cell_type": "code",
   "execution_count": null,
   "metadata": {},
   "outputs": [],
   "source": []
  },
  {
   "cell_type": "code",
   "execution_count": null,
   "metadata": {},
   "outputs": [],
   "source": []
  },
  {
   "cell_type": "code",
   "execution_count": null,
   "metadata": {},
   "outputs": [],
   "source": []
  }
 ],
 "metadata": {
  "kernelspec": {
   "display_name": "Python 3",
   "language": "python",
   "name": "python3"
  },
  "language_info": {
   "codemirror_mode": {
    "name": "ipython",
    "version": 3
   },
   "file_extension": ".py",
   "mimetype": "text/x-python",
   "name": "python",
   "nbconvert_exporter": "python",
   "pygments_lexer": "ipython3",
   "version": "3.8.3"
  }
 },
 "nbformat": 4,
 "nbformat_minor": 4
}
